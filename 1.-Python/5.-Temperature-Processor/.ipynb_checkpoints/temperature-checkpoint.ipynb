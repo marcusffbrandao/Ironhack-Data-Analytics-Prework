{
 "cells": [
  {
   "cell_type": "markdown",
   "metadata": {},
   "source": [
    "<img src=\"https://bit.ly/2VnXWr2\" width=\"100\" align=\"left\">"
   ]
  },
  {
   "cell_type": "markdown",
   "metadata": {},
   "source": [
    "# Temperature Sensor\n",
    "\n",
    "There is a temperature sensor in the processor of your company's server. The company wants to analyze the data provided by the sensor to decide if they should change the cooling system for a better one. As changing the cooling system is expensive and you are an excellent data analyst, you can't make a decision without basis.\n",
    "\n",
    "## Tools\n",
    "You don't necessarily need to use all the tools. Maybe you opt to use some of them or completely different ones, they are given to help you shape the exercise. Programming exercises can be solved in many different ways.\n",
    "1. Data structures: **lists**\n",
    "2. Loops: **list comprehension**\n",
    "3. Functions: **min, max, print, len**\n",
    "4. Conditional statements: **if-elif-else**\n",
    "\n",
    "## Tasks\n",
    "The temperatures measured throughout the 24 hours of a day are:"
   ]
  },
  {
   "cell_type": "code",
   "execution_count": 1,
   "metadata": {},
   "outputs": [],
   "source": [
    "temperatures_C = [33, 66, 65, 0, 59, 60, 62, 64, 70, 76, 80, 81, 80, 83, 90, 79, 61, 53, 50, 49, 53, 48, 45, 39]"
   ]
  },
  {
   "cell_type": "markdown",
   "metadata": {},
   "source": [
    "The first element of the list is the temperature at 12am, the second element is the temperature at 1am, and so on. \n",
    "\n",
    "The company has decided that if one of the following events occurs, then the cooling system needs to be replaced for a new one to avoid damaging the processor.\n",
    "* More than 4 temperatures are greater than or equal to 70ºC.\n",
    "* Any temperature is above 80ºC.\n",
    "* The average temperature exceeds 65ºC.\n",
    "\n",
    "Follow the steps so that you can make the decision.\n",
    "\n",
    "#### 1. Find the minimum temperature of the day and store it in a variable."
   ]
  },
  {
   "cell_type": "code",
   "execution_count": 2,
   "metadata": {},
   "outputs": [
    {
     "name": "stdout",
     "output_type": "stream",
     "text": [
      "The minimum temperature of the day is 0 Celsius.\n"
     ]
    }
   ],
   "source": [
    "min_temperature = min(temperatures_C)\n",
    "print(\"The minimum temperature of the day is %.1d Celsius.\" % min_temperature)"
   ]
  },
  {
   "cell_type": "markdown",
   "metadata": {},
   "source": [
    "#### 2. Find the maximum temperature of the day and store it in a variable."
   ]
  },
  {
   "cell_type": "code",
   "execution_count": 3,
   "metadata": {},
   "outputs": [
    {
     "name": "stdout",
     "output_type": "stream",
     "text": [
      "The maximum temperature of the day is 90 Celsius.\n"
     ]
    }
   ],
   "source": [
    "max_temperature = max(temperatures_C)\n",
    "print(\"The maximum temperature of the day is %.1d Celsius.\" % max_temperature)"
   ]
  },
  {
   "cell_type": "markdown",
   "metadata": {},
   "source": [
    "#### 3. Create a list with the temperatures that are greater than or equal to 70ºC. Store it in a variable."
   ]
  },
  {
   "cell_type": "code",
   "execution_count": 4,
   "metadata": {},
   "outputs": [
    {
     "name": "stdout",
     "output_type": "stream",
     "text": [
      "The temperatures that are greater than or equal to 70º are: [70, 76, 80, 81, 80, 83, 90, 79].\n"
     ]
    }
   ],
   "source": [
    "greater_or_equal_70C = []\n",
    "for temp in temperatures_C:\n",
    "    if temp >= 70:\n",
    "        greater_or_equal_70C.append(temp)\n",
    "print(\"The temperatures that are greater than or equal to 70º are: \" + str(greater_or_equal_70C) + \".\")"
   ]
  },
  {
   "cell_type": "markdown",
   "metadata": {},
   "source": [
    "#### 4. Find the average temperature of the day and store it in a variable."
   ]
  },
  {
   "cell_type": "code",
   "execution_count": 5,
   "metadata": {},
   "outputs": [
    {
     "name": "stdout",
     "output_type": "stream",
     "text": [
      "The average temperature of the day is 60.25 Celsius.\n"
     ]
    }
   ],
   "source": [
    "average_temperature = sum(temperatures_C) / len(temperatures_C)\n",
    "print(\"The average temperature of the day is %.2f Celsius.\" % average_temperature) "
   ]
  },
  {
   "cell_type": "markdown",
   "metadata": {},
   "source": [
    "#### 5. Imagine that there was a sensor failure at 3am and the data for that specific hour was not recorded. How would you estimate the missing value? Replace the current value of the list at 3am for an estimation. "
   ]
  },
  {
   "cell_type": "code",
   "execution_count": 6,
   "metadata": {},
   "outputs": [
    {
     "name": "stdout",
     "output_type": "stream",
     "text": [
      "The estimated value for the temperature at 3am is 62 Celsius.\n"
     ]
    }
   ],
   "source": [
    "#The tempaerature at 3am is located at the index 3 of the list of temperatures.\n",
    "#Teherefore, it is possible to estimate its value by calculating the mean \n",
    "#between the values before the missing temperature and the value after it.\n",
    "\n",
    "temperatures_C[3] = (temperatures_C[2] + temperatures_C[4]) / 2\n",
    "print(\"The estimated value for the temperature at 3am is %.d Celsius.\" % temperatures_C[3]) "
   ]
  },
  {
   "cell_type": "markdown",
   "metadata": {},
   "source": [
    "#### 6. Bonus: the maintenance staff is from the United States and does not understand the international metric system. Help them by converting the temperatures from Celsius to Fahrenheit.\n",
    "To know more about temperature conversion check this [link](https://en.wikipedia.org/wiki/Conversion_of_units_of_temperature).\n",
    "\n",
    "**Formula**: \n",
    "\n",
    "$F = 1.8 * C + 32$"
   ]
  },
  {
   "cell_type": "code",
   "execution_count": 7,
   "metadata": {},
   "outputs": [
    {
     "name": "stdout",
     "output_type": "stream",
     "text": [
      "The temperatures measured throughout the 24 hours of a day, in Fahrenheit, are: [91.4, 150.8, 149.0, 143.6, 138.2, 140.0, 143.6, 147.2, 158.0, 168.8, 176.0, 177.8, 176.0, 181.4, 194.0, 174.2, 141.8, 127.4, 122.0, 120.2, 127.4, 118.4, 113.0, 102.2].\n"
     ]
    }
   ],
   "source": [
    "temperatures_F = []\n",
    "for temp in temperatures_C:\n",
    "    temperatures_F.append(round(1.8 * temp + 32, 2 ))\n",
    "print(\"The temperatures measured throughout the 24 hours of a day, in Fahrenheit, are: \" + str(temperatures_F) + \".\")   "
   ]
  },
  {
   "cell_type": "markdown",
   "metadata": {},
   "source": [
    "#### 7. Make a decision!\n",
    "Now it's time to make a decision taking into account what you have seen until now. \n",
    "\n",
    "Remember that if one of the following events occurs, then the cooling system needs to be replaced for a new one to avoid damaging the processor.\n",
    "* More than 4 temperatures are greater than or equal to 70ºC.\n",
    "* Any temperature is above 80ºC.\n",
    "* The average temperature exceeds 65ºC.\n",
    "\n",
    "#### To make your decision, check if any of the three conditions above is met. You might need to use some of the variables you created in steps 1 to 6. Print a message to show if the cooling system needs to be changed or not."
   ]
  },
  {
   "cell_type": "code",
   "execution_count": 8,
   "metadata": {},
   "outputs": [
    {
     "name": "stdout",
     "output_type": "stream",
     "text": [
      "The cooling system needs to be replaced.\n"
     ]
    }
   ],
   "source": [
    "temperatures_over_80C = 0\n",
    "for temp in temperatures_C:\n",
    "    if temp > 80:\n",
    "        temperatures_over_80C += 1\n",
    "\n",
    "if len(greater_or_equal_70C) > 4 or temperatures_over_80C > 0 or average_temperature > 65:\n",
    "    print(\"The cooling system needs to be replaced.\")\n",
    "else:\n",
    "     print(\"The cooling system is working well and does not need to be replaced.\")"
   ]
  },
  {
   "cell_type": "markdown",
   "metadata": {},
   "source": [
    "## Bonus\n",
    "\n",
    "The company has decided that the decision you made is not valid. They want you to analyze the data again but this time, the conditions that need to be met in order to change the cooling system are different.\n",
    "\n",
    "This time, if one of the following events occurs, then the cooling system needs to be replaced:\n",
    "* The temperature is greater than 70ºC during more than 4 consecutive hours.\n",
    "* Any temperature is above 80ºC.\n",
    "* The average temperature exceeds 65ºC.\n",
    "\n",
    "Follow the steps so that you can make the decision.\n",
    "\n",
    "#### 1. Create a list with the hours where the temperature is greater than 70ºC. Store it in a variable."
   ]
  },
  {
   "cell_type": "code",
   "execution_count": 9,
   "metadata": {},
   "outputs": [
    {
     "name": "stdout",
     "output_type": "stream",
     "text": [
      "The hours when the temperature is greater than 70ºC are: [9, 10, 11, 12, 13, 14, 15].\n"
     ]
    }
   ],
   "source": [
    "greater_than_70C_hours = []\n",
    "\n",
    "for hour in range(len(temperatures_C)):\n",
    "    if temperatures_C[hour] > 70:\n",
    "        greater_than_70C_hours.append(hour) \n",
    "\n",
    "print(\"The hours when the temperature is greater than 70ºC are: \" + str(greater_than_70C_hours) + \".\")"
   ]
  },
  {
   "cell_type": "markdown",
   "metadata": {},
   "source": [
    "#### 2. Check if the list you created in step 1 has more than 4 consecutive hours. "
   ]
  },
  {
   "cell_type": "code",
   "execution_count": 10,
   "metadata": {},
   "outputs": [
    {
     "name": "stdout",
     "output_type": "stream",
     "text": [
      "The temperature is greater than 70ºC in more than 4 consecutive hours.\n"
     ]
    }
   ],
   "source": [
    "consecutive_hours = 0\n",
    "for i in range(len(greater_than_70C_hours)):\n",
    "    if (greater_than_70C_hours[i] - greater_than_70C_hours[i - 1]):\n",
    "        consecutive_hours += 1\n",
    "if consecutive_hours > 4:\n",
    "    print(\"The temperature is greater than 70ºC in more than 4 consecutive hours.\")"
   ]
  },
  {
   "cell_type": "markdown",
   "metadata": {},
   "source": [
    "#### 3. Make the decision!\n",
    "To make your decision, check if any of the three conditions is met. Print a message to show if the cooling system needs to be changed or not."
   ]
  },
  {
   "cell_type": "code",
   "execution_count": 11,
   "metadata": {},
   "outputs": [
    {
     "name": "stdout",
     "output_type": "stream",
     "text": [
      "The cooling system needs to be replaced.\n"
     ]
    }
   ],
   "source": [
    "if consecutive_hours > 4 or temperatures_over_80C > 0 or average_temperature > 65:\n",
    "    print(\"The cooling system needs to be replaced.\")\n",
    "else:\n",
    "     print(\"The cooling system is working well and does not need to be replaced.\")"
   ]
  },
  {
   "cell_type": "markdown",
   "metadata": {},
   "source": [
    "#### 4. Find the average value of the temperature lists (ºC and ºF). What is the relation between both average values?"
   ]
  },
  {
   "cell_type": "code",
   "execution_count": 12,
   "metadata": {},
   "outputs": [
    {
     "name": "stdout",
     "output_type": "stream",
     "text": [
      "The average temperature of the day is 62.83 Celsius or 145.10 Farenheit. The average value of the temperatures in Farenheit is 2.31 times the average value in Celsius.\n"
     ]
    }
   ],
   "source": [
    "import numpy as np\n",
    "average_temperature_C = float(sum(temperatures_C)/len(temperatures_C))\n",
    "average_temperature_F = float(sum(temperatures_F)/len(temperatures_F))\n",
    "relation_avg = average_temperature_F / average_temperature_C\n",
    "print(\"The average temperature of the day is %.2f Celsius or %.2f Farenheit. The average value of the temperatures in Farenheit is %.2f times the average value in Celsius.\" % (average_temperature_C, average_temperature_F, relation_avg))"
   ]
  },
  {
   "cell_type": "markdown",
   "metadata": {},
   "source": [
    "#### 5. Find the standard deviation of the temperature lists (ºC and ºF). What is the relation between both standard deviations?"
   ]
  },
  {
   "cell_type": "code",
   "execution_count": 13,
   "metadata": {},
   "outputs": [
    {
     "name": "stdout",
     "output_type": "stream",
     "text": [
      "The standard deviation of the temperatures of the day is 14.63 Celsius or 26.34 Farenheit. The standard deviation of the temperatures in Farenheit is 1.80 times the standard deviation in Celsius.\n"
     ]
    }
   ],
   "source": [
    "import numpy as np\n",
    "standard_deviation_C = np.std(temperatures_C)\n",
    "standard_deviation_F = np.std(temperatures_F)\n",
    "relation_std = standard_deviation_F / standard_deviation_C\n",
    "print(\"The standard deviation of the temperatures of the day is %.2f Celsius or %.2f Farenheit. The standard deviation of the temperatures in Farenheit is %.2f times the standard deviation in Celsius.\" % (standard_deviation_C, standard_deviation_F, relation_std))"
   ]
  }
 ],
 "metadata": {
  "kernelspec": {
   "display_name": "Python 3",
   "language": "python",
   "name": "python3"
  },
  "language_info": {
   "codemirror_mode": {
    "name": "ipython",
    "version": 3
   },
   "file_extension": ".py",
   "mimetype": "text/x-python",
   "name": "python",
   "nbconvert_exporter": "python",
   "pygments_lexer": "ipython3",
   "version": "3.8.2"
  }
 },
 "nbformat": 4,
 "nbformat_minor": 2
}
