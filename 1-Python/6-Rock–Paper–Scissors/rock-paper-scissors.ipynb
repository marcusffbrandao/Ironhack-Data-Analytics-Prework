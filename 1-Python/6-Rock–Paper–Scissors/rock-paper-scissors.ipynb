{
 "cells": [
  {
   "cell_type": "markdown",
   "metadata": {},
   "source": [
    "<img src=\"https://bit.ly/2VnXWr2\" width=\"100\" align=\"left\">"
   ]
  },
  {
   "cell_type": "markdown",
   "metadata": {},
   "source": [
    "# Rock, Paper & Scissors\n",
    "\n",
    "Let's play the famous game against our computer. You can check the rules [here](https://en.wikipedia.org/wiki/Rock%E2%80%93paper%E2%80%93scissors). \n",
    "\n",
    "## Task\n",
    "Create a program that imitates the playability of the well known game of rock, paper, scissors. Follow the guidelines provided.\n",
    "\n",
    "## Tools\n",
    "1. Loop: **for/while**\n",
    "2. Functions: **input(), print()...**\n",
    "3. Conditional statements: **if, elif, else**\n",
    "4. Definition of functions. Modular programming\n",
    "5. Import modules\n",
    "\n",
    "**To solve this challenge, the use of functions is recommended.**\n",
    "\n",
    "#### 1. Import the choice function of the random module."
   ]
  },
  {
   "cell_type": "code",
   "execution_count": null,
   "metadata": {},
   "outputs": [],
   "source": [
    "from random import choice"
   ]
  },
  {
   "cell_type": "markdown",
   "metadata": {},
   "source": [
    "#### 2. Create a list that includes the 3 possible gesture options of the game: 'rock', 'paper' or 'scissors'. Store the list in a variable called `gestures`."
   ]
  },
  {
   "cell_type": "code",
   "execution_count": null,
   "metadata": {},
   "outputs": [],
   "source": [
    "gestures = [\"rock\", \"paper\", \"scissors\"]"
   ]
  },
  {
   "cell_type": "markdown",
   "metadata": {},
   "source": [
    "#### 3. Create a variable called `n_rounds` to store the maximum number of rounds to play in a game. \n",
    "Remember that the number of rounds must be odd: 1, 3, 5, ..."
   ]
  },
  {
   "cell_type": "code",
   "execution_count": null,
   "metadata": {},
   "outputs": [],
   "source": [
    "n_rounds = 5"
   ]
  },
  {
   "cell_type": "markdown",
   "metadata": {},
   "source": [
    "#### 4. Create a variable called `rounds_to_win` to store the number of rounds that a player must win to win the game.\n",
    "**Hint**: the value stored in `rounds_to_win` depends on the value of `n_rounds`. "
   ]
  },
  {
   "cell_type": "code",
   "execution_count": null,
   "metadata": {},
   "outputs": [],
   "source": [
    "rounds_to_win = 3"
   ]
  },
  {
   "cell_type": "markdown",
   "metadata": {},
   "source": [
    "#### 5. Create two variables to store the number of rounds that the computer and the player have won. Call these variables `cpu_score` and `player_score`."
   ]
  },
  {
   "cell_type": "code",
   "execution_count": null,
   "metadata": {},
   "outputs": [],
   "source": [
    "cpu_score = 0\n",
    "player_score = 0"
   ]
  },
  {
   "cell_type": "markdown",
   "metadata": {},
   "source": [
    "#### 6. Define a function that randomly returns one of the 3 gesture options.\n",
    "You will use this function to simulate the gesture choice of the computer. "
   ]
  },
  {
   "cell_type": "code",
   "execution_count": null,
   "metadata": {},
   "outputs": [],
   "source": [
    "def computer_gesture():\n",
    "    computer_choice = choice(gestures) \n",
    "    return computer_choice"
   ]
  },
  {
   "cell_type": "markdown",
   "metadata": {},
   "source": [
    "#### 7. Define a function that asks the player which is the gesture he or she wants to show: 'rock', 'paper' or 'scissors'.\n",
    "The player should only be allowed to choose one of the 3 gesture options. If the player's choice is not rock, paper or scissors, keep asking until it is."
   ]
  },
  {
   "cell_type": "code",
   "execution_count": null,
   "metadata": {},
   "outputs": [],
   "source": [
    "#The empty prints() were used for better visualization of the game.\n",
    "def player_gesture():\n",
    "    print()\n",
    "    player_choice = input(\"Enter the gesture you want to play: rock, paper or scissors.\").lower()\n",
    "    if player_choice not in gestures:\n",
    "        print(\"That's not a valid option. Type rock, paper or scissors.\")\n",
    "        return player_gesture()        \n",
    "    else:\n",
    "        return player_choice"
   ]
  },
  {
   "cell_type": "markdown",
   "metadata": {},
   "source": [
    "#### 8. Define a function that checks who won a round. \n",
    "The function should return 0 if there is a tie, 1 if the computer wins and 2 if the player wins."
   ]
  },
  {
   "cell_type": "code",
   "execution_count": null,
   "metadata": {},
   "outputs": [],
   "source": [
    "def round_winner(computer, player):\n",
    "    if computer == player:\n",
    "        return 0\n",
    "    elif (computer == \"rock\" and player == \"scissors\") or (computer == \"paper\" and player == \"rock\") or (computer == \"scissors\" and player == \"paper\"):\n",
    "        return 1\n",
    "    else:\n",
    "        return 2"
   ]
  },
  {
   "cell_type": "markdown",
   "metadata": {},
   "source": [
    "#### 9. Define a function that prints the choice of the computer, the choice of the player and a message that announces who won the current round. \n",
    "You should also use this function to update the variables that count the number of rounds that the computer and the player have won. The score of the winner increases by one point. If there is a tie, the score does not increase."
   ]
  },
  {
   "cell_type": "code",
   "execution_count": null,
   "metadata": {},
   "outputs": [],
   "source": [
    "def current_round(player, computer, result):\n",
    "    global cpu_score, player_score\n",
    "    print(\"Computer choice is: \", computer)   \n",
    "    print(\"Your choice is: \", player)\n",
    "    if result == 1:\n",
    "        cpu_score += 1\n",
    "        print(\"You lost the current round!\")\n",
    "    elif result == 2:\n",
    "        player_score += 1\n",
    "        print(\"You won the current round!\")\n",
    "    else:\n",
    "        print(\"Tie!\")\n",
    "    print(\"Scoreboard: COMPUTER ===> %d  x  %d <=== YOU\" % (cpu_score, player_score))"
   ]
  },
  {
   "cell_type": "markdown",
   "metadata": {},
   "source": [
    "#### 10. Now it's time to code the execution of the game using the functions and variables you defined above. \n",
    "\n",
    "First, create a loop structure that repeats while no player reaches the minimum score necessary to win and the number of rounds is less than the maximum number of rounds to play in a game.  \n",
    "\n",
    "Inside the loop, use the functions and variables above to create the execution of a round: ask for the player's choice, generate the random choice of the computer, show the round results, update the scores, etc. "
   ]
  },
  {
   "cell_type": "code",
   "execution_count": null,
   "metadata": {},
   "outputs": [],
   "source": [
    "while n_rounds >= 0:\n",
    "    if cpu_score == rounds_to_win:\n",
    "        print()\n",
    "        print(\"You lost the game!\")\n",
    "        break\n",
    "    elif player_score == rounds_to_win:\n",
    "        print()\n",
    "        print(\"You won the game!\")\n",
    "        break\n",
    "    elif n_rounds == 0:\n",
    "        print()\n",
    "        print(\"Game over! Nobody won.\")\n",
    "        break\n",
    "    else:\n",
    "        computer = computer_gesture()\n",
    "        player = player_gesture()\n",
    "        result = round_winner(computer, player)\n",
    "        current_round(player, computer, result)\n",
    "    n_rounds -= 1\n",
    "    print(\"Rounds left: \", n_rounds)"
   ]
  },
  {
   "cell_type": "markdown",
   "metadata": {},
   "source": [
    "#### 11. Print the winner of the game based on who won more rounds.\n",
    "Remember that the game might be tied. "
   ]
  },
  {
   "cell_type": "code",
   "execution_count": null,
   "metadata": {},
   "outputs": [],
   "source": [
    "#Already done inside the while loop."
   ]
  },
  {
   "cell_type": "markdown",
   "metadata": {},
   "source": [
    "# Bonus: Rock, Paper, Scissors, Lizard & Spock\n",
    "![](images/rpsls.jpg)\n",
    "\n",
    "In this challenge, you need to improve the previous game by adding two new options. To know more about the rules of the improved version of rock, paper, scissors, check this [link](http://www.samkass.com/theories/RPSSL.html). \n",
    "\n",
    "In addition, you will also need to improve how the game interacts with the player: the number of rounds to play, which must be an odd number, will be requested to the user until a valid number is entered. Define a new function to make that request.\n",
    "\n",
    "**Hint**: Try to reuse the code that you already coded in the previous challenge. If your code is efficient, this bonus will only consist of simple modifications to the original game."
   ]
  },
  {
   "cell_type": "code",
   "execution_count": null,
   "metadata": {},
   "outputs": [],
   "source": [
    "from random import choice\n",
    "\n",
    "gestures_bonus = [\"rock\", \"paper\", \"scissors\", \"lizard\", \"spock\"]\n",
    "\n",
    "def number_rounds():\n",
    "    rounds_input = input(\"Enter the number of rounds you want to play. It must be an odd number.\") \n",
    "    if not rounds_input.isnumeric():\n",
    "      print(\"That is not an integer odd number! Try again!\") \n",
    "      return number_rounds()\n",
    "    else:\n",
    "      if int(rounds_input) %2 == 0:\n",
    "        print(\"That is not an odd number! Try again!\")\n",
    "        return number_rounds()\n",
    "      else:\n",
    "        return int(rounds_input) \n",
    "\n",
    "n_rounds_bonus = number_rounds()\n",
    "    \n",
    "rounds_to_win_bonus = (n_rounds_bonus - 1)/2 + 1\n",
    "print(\"You chose to play %d rounds. Therefore, you must win %d rounds out of %d.\" % (n_rounds_bonus, rounds_to_win_bonus, n_rounds_bonus))\n",
    "\n",
    "cpu_score_bonus = 0\n",
    "\n",
    "player_score_bonus = 0\n",
    "\n",
    "def computer_gesture_bonus():\n",
    "    computer_choice_bonus = choice(gestures_bonus) \n",
    "    return computer_choice_bonus\n",
    "\n",
    "#The empty prints() were used for better visualization of the game.\n",
    "def player_gesture_bonus():\n",
    "    print()\n",
    "    player_choice_bonus = input(\"Enter the gesture you want to play: rock, paper, scissors, lizard or spock.\").lower()\n",
    "    if player_choice_bonus not in gestures_bonus:\n",
    "        print(\"That's not a valid option. Type rock, paper, scissors, lizard or spock.\")\n",
    "        return player_gesture_bonus()\n",
    "    else:\n",
    "        return player_choice_bonus\n",
    "    \n",
    "def round_winner_bonus(computer, player):\n",
    "    if computer == player:\n",
    "        return 0\n",
    "    elif (computer == \"rock\" and (player == \"scissors\" or player == \"lizard\")) or \\\n",
    "    (computer == \"paper\" and (player == \"rock\" or player == \"spock\")) or \\\n",
    "    (computer == \"scissors\" and (player == \"paper\" or player == \"lizard\")) or \\\n",
    "    (computer == \"lizard\" and (player == \"paper\" or player == \"spock\")) or \\\n",
    "    (computer == \"spock\" and (player == \"rock\" or player == \"scissors\")):        \n",
    "        return 1\n",
    "    else:\n",
    "        return 2\n",
    "    \n",
    "def current_round_bonus(player, computer, result):\n",
    "    global cpu_score_bonus, player_score_bonus\n",
    "    print(\"Computer choice is: \", computer)   \n",
    "    print(\"Your choice is: \", player)\n",
    "    if result == 1:\n",
    "        cpu_score_bonus += 1\n",
    "        print(\"You lost the current round!\")\n",
    "    elif result == 2:\n",
    "        player_score_bonus += 1\n",
    "        print(\"You won the current round!\")\n",
    "    else:\n",
    "        print(\"Tie!\")\n",
    "    print(\"Scoreboard: COMPUTER ===> %d  x  %d <=== YOU\" % (cpu_score_bonus, player_score_bonus))\n",
    "    \n",
    "while n_rounds_bonus >= 0:\n",
    "    if cpu_score_bonus == rounds_to_win_bonus:\n",
    "        print()\n",
    "        print(\"You lost the game!\")\n",
    "        break\n",
    "    elif player_score_bonus == rounds_to_win_bonus:\n",
    "        print()\n",
    "        print(\"You won the game!\")\n",
    "        break\n",
    "    elif n_rounds_bonus == 0:\n",
    "        print()\n",
    "        print(\"Game over! Nobody won.\")\n",
    "        break\n",
    "    else:\n",
    "        computer = computer_gesture_bonus()\n",
    "        player = player_gesture_bonus()\n",
    "        result = round_winner_bonus(computer, player)\n",
    "        current_round_bonus(player, computer, result)\n",
    "    n_rounds_bonus -= 1\n",
    "    print(\"Rounds left: \", n_rounds_bonus)"
   ]
  }
 ],
 "metadata": {
  "kernelspec": {
   "display_name": "Python 3",
   "language": "python",
   "name": "python3"
  },
  "language_info": {
   "codemirror_mode": {
    "name": "ipython",
    "version": 3
   },
   "file_extension": ".py",
   "mimetype": "text/x-python",
   "name": "python",
   "nbconvert_exporter": "python",
   "pygments_lexer": "ipython3",
   "version": "3.8.2"
  }
 },
 "nbformat": 4,
 "nbformat_minor": 2
}
